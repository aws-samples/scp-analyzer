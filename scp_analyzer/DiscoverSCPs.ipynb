{
 "cells": [
  {
   "cell_type": "markdown",
   "metadata": {},
   "source": [
    "# Discover SCPs"
   ]
  },
  {
   "cell_type": "markdown",
   "metadata": {},
   "source": [
    "Discovers all the SCPs currently applied per account in the organization"
   ]
  },
  {
   "cell_type": "code",
   "execution_count": 24,
   "metadata": {},
   "outputs": [],
   "source": [
    "import pandas as pd\n",
    "import boto3\n",
    "import logging\n",
    "import json\n",
    "import numpy as np"
   ]
  },
  {
   "cell_type": "raw",
   "metadata": {},
   "source": [
    "## Setup logging\n",
    "\n",
    "logging.basicSetup()\n",
    "logger = logging.getLogger('discover-scps')"
   ]
  },
  {
   "cell_type": "markdown",
   "metadata": {},
   "source": [
    "## Get session"
   ]
  },
  {
   "cell_type": "code",
   "execution_count": 25,
   "metadata": {},
   "outputs": [],
   "source": [
    "session = boto3.Session()\n",
    "orgs = session.client('organizations')"
   ]
  },
  {
   "cell_type": "markdown",
   "metadata": {},
   "source": [
    "## Get account list"
   ]
  },
  {
   "cell_type": "code",
   "execution_count": 26,
   "metadata": {},
   "outputs": [],
   "source": [
    "accounts = []\n",
    "paginator = orgs.get_paginator('list_accounts')\n",
    "for page in paginator.paginate():\n",
    "    accounts.extend(page['Accounts'])\n",
    "df = pd.DataFrame(accounts)"
   ]
  },
  {
   "cell_type": "markdown",
   "metadata": {},
   "source": [
    "## List SCPs"
   ]
  },
  {
   "cell_type": "code",
   "execution_count": 27,
   "metadata": {},
   "outputs": [],
   "source": [
    "paginator = orgs.get_paginator('list_policies')\n",
    "options = dict(\n",
    "    Filter='SERVICE_CONTROL_POLICY'\n",
    ")\n",
    "scps = []\n",
    "for page in paginator.paginate(**options):\n",
    "    scps.extend(page['Policies'])"
   ]
  },
  {
   "cell_type": "code",
   "execution_count": 28,
   "metadata": {},
   "outputs": [],
   "source": [
    "## Describe policies\n",
    "\n",
    "policies = {}\n",
    "for policy in scps:\n",
    "    policy_doc = orgs.describe_policy(PolicyId=policy['Id'])\n",
    "    policies[policy['Id']] = json.loads(policy_doc['Policy']['Content'])"
   ]
  },
  {
   "cell_type": "markdown",
   "metadata": {},
   "source": [
    "## List targets for policy (SCP)"
   ]
  },
  {
   "cell_type": "code",
   "execution_count": 29,
   "metadata": {},
   "outputs": [],
   "source": [
    "paginator = orgs.get_paginator('list_targets_for_policy')\n",
    "targets = []\n",
    "for policy in scps:\n",
    "    options = dict(\n",
    "        PolicyId=policy['Id']\n",
    "    )\n",
    "    for page in paginator.paginate(**options):\n",
    "        targets.append({\n",
    "            'Id': policy['Id'],\n",
    "            'Targets': page['Targets']\n",
    "        })"
   ]
  },
  {
   "cell_type": "markdown",
   "metadata": {},
   "source": [
    "## Convert to dataframes"
   ]
  },
  {
   "cell_type": "code",
   "execution_count": 30,
   "metadata": {},
   "outputs": [],
   "source": [
    "scps = pd.DataFrame(scps)\n",
    "\n",
    "targets = pd.DataFrame(targets)\n",
    "\n",
    "targets = targets.explode('Targets')"
   ]
  },
  {
   "cell_type": "markdown",
   "metadata": {},
   "source": [
    "## Join scps and targets"
   ]
  },
  {
   "cell_type": "code",
   "execution_count": 31,
   "metadata": {},
   "outputs": [],
   "source": [
    "scps = scps.merge(targets, on='Id')"
   ]
  },
  {
   "cell_type": "markdown",
   "metadata": {},
   "source": [
    "## Extract account id and target type from target"
   ]
  },
  {
   "cell_type": "code",
   "execution_count": 32,
   "metadata": {},
   "outputs": [],
   "source": [
    "scps = scps.loc[\n",
    "    scps['Targets'].notna()\n",
    "].copy()"
   ]
  },
  {
   "cell_type": "code",
   "execution_count": 33,
   "metadata": {},
   "outputs": [],
   "source": [
    "if scps.empty: raise SystemExit('SCPs disabled or not applied')"
   ]
  },
  {
   "cell_type": "code",
   "execution_count": 34,
   "metadata": {},
   "outputs": [],
   "source": [
    "def get_target_id(x):\n",
    "    try:\n",
    "        return x['TargetId'], x['Type']\n",
    "    except:\n",
    "        return\n",
    "\n",
    "scps[['TargetId', 'TargetType']] = scps['Targets'].apply(get_target_id).apply(pd.Series)"
   ]
  },
  {
   "cell_type": "markdown",
   "metadata": {},
   "source": [
    "## Map organization"
   ]
  },
  {
   "cell_type": "code",
   "execution_count": 35,
   "metadata": {},
   "outputs": [],
   "source": [
    "def list_parents(child_id):\n",
    "    try:\n",
    "        paginator = orgs.get_paginator('list_parents')\n",
    "        options = {\n",
    "            'ChildId': child_id\n",
    "        }\n",
    "        results = []\n",
    "        for page in paginator.paginate(**options):\n",
    "            results.extend(page['Parents'])\n",
    "        return results\n",
    "    except Exception as err:\n",
    "        return err"
   ]
  },
  {
   "cell_type": "code",
   "execution_count": 36,
   "metadata": {},
   "outputs": [],
   "source": [
    "scps['Parents'] = scps['TargetId'].apply(list_parents)\n",
    "\n",
    "scps = scps['Parents'].explode().apply(pd.Series).rename(columns={\n",
    "    'Id': 'ParentId',\n",
    "    'Type': 'ParentType'\n",
    "}).drop(columns=[0]).join(scps)"
   ]
  },
  {
   "cell_type": "markdown",
   "metadata": {},
   "source": [
    "## Clean up SCPS not applied"
   ]
  },
  {
   "cell_type": "code",
   "execution_count": 37,
   "metadata": {},
   "outputs": [],
   "source": [
    "scps.dropna(subset=['TargetId'], inplace=True)"
   ]
  },
  {
   "cell_type": "markdown",
   "metadata": {},
   "source": [
    "## Build scp for each account"
   ]
  },
  {
   "cell_type": "code",
   "execution_count": 38,
   "metadata": {},
   "outputs": [],
   "source": [
    "def consolidate_path(target_id, dataframe):\n",
    "    \"\"\"Given a target and a dataframe of accounts and SCPs, traverse the account to the root and return a list of hops.\"\"\"    \n",
    "    hops = [target_id]\n",
    "    \n",
    "    try:\n",
    "        parent = dataframe.loc[\n",
    "            dataframe['TargetId'] == target_id, 'ParentId'\n",
    "        ].values[0]\n",
    "    except Exception as err:\n",
    "        logger.error(f'Unable to traverse node: {err}')\n",
    "        return \n",
    "    \n",
    "    if parent is not np.NaN:\n",
    "        hops.extend(consolidate_path(parent, dataframe))\n",
    "    return hops"
   ]
  },
  {
   "cell_type": "code",
   "execution_count": 39,
   "metadata": {},
   "outputs": [],
   "source": [
    "df['Path'] = df['Id'].apply(consolidate_path, dataframe=scps)"
   ]
  },
  {
   "cell_type": "code",
   "execution_count": 40,
   "metadata": {},
   "outputs": [],
   "source": [
    "def get_scps(targets, scps, policies):\n",
    "    \"\"\"Return policies for given target list.\"\"\"\n",
    "    policy_statements = []\n",
    "    \n",
    "    if not targets: return\n",
    "    for target in targets:\n",
    "        policy_ids = scps.loc[\n",
    "            scps['TargetId'] == target\n",
    "        ]['Id'].values\n",
    "        for pid in policy_ids:\n",
    "            policy_statements.extend(policies[pid]['Statement'])\n",
    "        \n",
    "    return policy_statements"
   ]
  },
  {
   "cell_type": "code",
   "execution_count": 43,
   "metadata": {},
   "outputs": [],
   "source": [
    "df['Scps'] = df['Path'].apply(get_scps, scps=scps, policies=policies)\n",
    "\n",
    "df_scps = df['Scps'].explode().apply(pd.Series).join(df).astype(str).drop_duplicates().drop(columns='Scps')"
   ]
  },
  {
   "cell_type": "code",
   "execution_count": 20,
   "metadata": {},
   "outputs": [
    {
     "ename": "NameError",
     "evalue": "name 'OutputFile' is not defined",
     "output_type": "error",
     "traceback": [
      "\u001b[0;31m---------------------------------------------------------------------------\u001b[0m",
      "\u001b[0;31mNameError\u001b[0m                                 Traceback (most recent call last)",
      "\u001b[0;32m<ipython-input-20-67afccb02ac8>\u001b[0m in \u001b[0;36m<module>\u001b[0;34m\u001b[0m\n\u001b[1;32m      1\u001b[0m \u001b[0;31m## Save dataset\u001b[0m\u001b[0;34m\u001b[0m\u001b[0;34m\u001b[0m\u001b[0;34m\u001b[0m\u001b[0m\n\u001b[0;32m----> 2\u001b[0;31m \u001b[0mdf_scps\u001b[0m\u001b[0;34m.\u001b[0m\u001b[0mto_csv\u001b[0m\u001b[0;34m(\u001b[0m\u001b[0mOutputFile\u001b[0m\u001b[0;34m,\u001b[0m \u001b[0mindex\u001b[0m\u001b[0;34m=\u001b[0m\u001b[0;32mFalse\u001b[0m\u001b[0;34m)\u001b[0m\u001b[0;34m\u001b[0m\u001b[0;34m\u001b[0m\u001b[0m\n\u001b[0m",
      "\u001b[0;31mNameError\u001b[0m: name 'OutputFile' is not defined"
     ]
    }
   ],
   "source": [
    "## Save dataset\n",
    "df_scps.to_csv(OutputFile, index=False)"
   ]
  }
 ],
 "metadata": {
  "kernelspec": {
   "display_name": "Python 3",
   "language": "python",
   "name": "python3"
  },
  "language_info": {
   "codemirror_mode": {
    "name": "ipython",
    "version": 3
   },
   "file_extension": ".py",
   "mimetype": "text/x-python",
   "name": "python",
   "nbconvert_exporter": "python",
   "pygments_lexer": "ipython3",
   "version": "3.9.4"
  },
  "toc-showtags": false
 },
 "nbformat": 4,
 "nbformat_minor": 4
}
